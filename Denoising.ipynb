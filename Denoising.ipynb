{
 "cells": [
  {
   "cell_type": "code",
   "execution_count": null,
   "metadata": {
    "ExecuteTime": {
     "end_time": "2019-10-26T02:08:30.094069Z",
     "start_time": "2019-10-26T02:08:30.081318Z"
    },
    "collapsed": true
   },
   "outputs": [],
   "source": [
    "import os\n",
    "import time\n",
    "from IPython.display import clear_output\n",
    "\n",
    "import numpy as np\n",
    "import torch\n",
    "import torch.nn as nn\n",
    "\n",
    "from matplotlib.pyplot import imshow, show, figure\n",
    "from PIL import Image\n",
    "from torch.optim import Adam\n",
    "from torch.utils.data import Dataset, DataLoader\n",
    "from torchvision.transforms import RandomCrop, ToTensor, Compose, RandomHorizontalFlip, RandomVerticalFlip, ToPILImage\n",
    "\n",
    "%matplotlib inline"
   ]
  },
  {
   "cell_type": "code",
   "execution_count": null,
   "metadata": {
    "ExecuteTime": {
     "end_time": "2019-10-26T02:08:30.105823Z",
     "start_time": "2019-10-26T02:08:30.099923Z"
    },
    "collapsed": true
   },
   "outputs": [],
   "source": [
    "NUM_EPOCHS = 500\n",
    "BATCH_SIZE = 30\n",
    "\n",
    "PATCH_SIZE = 40\n",
    "NOISE_SIGMA = 20\n",
    "CROPS_PER_IMAGE = 10\n",
    "\n",
    "TRAIN_DATA_PATH = \"data/train\"\n",
    "VALIDATION_DATA_PATH = \"data/val\""
   ]
  },
  {
   "cell_type": "markdown",
   "metadata": {},
   "source": [
    "### Define a dataset, augmentations, noise simulation"
   ]
  },
  {
   "cell_type": "code",
   "execution_count": null,
   "metadata": {
    "ExecuteTime": {
     "end_time": "2019-10-26T02:08:30.191823Z",
     "start_time": "2019-10-26T02:08:30.165805Z"
    },
    "collapsed": true
   },
   "outputs": [],
   "source": [
    "class DenoisingDataset(Dataset):\n",
    "    def __init__(self, data_path):\n",
    "        self._images = [np.array(Image.open(os.path.join(data_path, filename))) for filename in os.listdir(data_path)]\n",
    "        self._sigma = NOISE_SIGMA\n",
    "        self._transforms = Compose([\n",
    "            ToPILImage(),\n",
    "            RandomCrop(PATCH_SIZE),\n",
    "            RandomHorizontalFlip(),\n",
    "            RandomVerticalFlip(),\n",
    "            ToTensor()])\n",
    "\n",
    "    def __len__(self):\n",
    "        return len(self._images) * CROPS_PER_IMAGE\n",
    "\n",
    "    def __getitem__(self, item):\n",
    "        image = self._images[item % len(self._images)]\n",
    "        \n",
    "        image = self._transforms(image)\n",
    "        noise = torch.randn(image.size()).mul_(self._sigma / 255)\n",
    "        \n",
    "        noisy_image = (image + noise).clamp(0, 1)\n",
    "        \n",
    "        return noisy_image, image"
   ]
  },
  {
   "cell_type": "markdown",
   "metadata": {},
   "source": [
    "### Define model architecture"
   ]
  },
  {
   "cell_type": "code",
   "execution_count": null,
   "metadata": {
    "ExecuteTime": {
     "end_time": "2019-10-26T02:08:30.280187Z",
     "start_time": "2019-10-26T02:08:30.225164Z"
    },
    "collapsed": true
   },
   "outputs": [],
   "source": [
    "class DnCNN(nn.Module):\n",
    "    def __init__(self, depth=5, n_channels=10, image_channels=3, use_bnorm=True, kernel_size=3):\n",
    "        super(DnCNN, self).__init__()\n",
    "        kernel_size = 3\n",
    "        padding = 1\n",
    "        layers = []\n",
    "\n",
    "        layers.append(nn.Conv2d(in_channels=image_channels, out_channels=n_channels, kernel_size=kernel_size, padding=padding, bias=True))\n",
    "        layers.append(nn.ReLU(inplace=True))\n",
    "        for _ in range(depth-2):\n",
    "            layers.append(nn.Conv2d(in_channels=n_channels, out_channels=n_channels, kernel_size=kernel_size, padding=padding, bias=True))\n",
    "#             layers.append(nn.BatchNorm2d(n_channels, eps=0.0001, momentum = 0.95))\n",
    "            layers.append(nn.ReLU(inplace=True))\n",
    "        layers.append(nn.Conv2d(in_channels=n_channels, out_channels=image_channels, kernel_size=kernel_size, padding=padding, bias=True))\n",
    "        self.dncnn = nn.Sequential(*layers)\n",
    "        self._initialize_weights()\n",
    "\n",
    "    def forward(self, x):\n",
    "        out = self.dncnn(x)\n",
    "        return x - out\n",
    "\n",
    "    def _initialize_weights(self):\n",
    "        for m in self.modules():\n",
    "            if isinstance(m, nn.Conv2d):\n",
    "                nn.init.orthogonal_(m.weight)\n",
    "                if m.bias is not None:\n",
    "                    nn.init.constant_(m.bias, 0)\n",
    "            elif isinstance(m, nn.BatchNorm2d):\n",
    "                nn.init.constant_(m.weight, 1)\n",
    "                nn.init.constant_(m.bias, 0)"
   ]
  },
  {
   "cell_type": "markdown",
   "metadata": {},
   "source": [
    "### Visualization"
   ]
  },
  {
   "cell_type": "code",
   "execution_count": null,
   "metadata": {
    "ExecuteTime": {
     "end_time": "2019-10-26T02:08:30.314039Z",
     "start_time": "2019-10-26T02:08:30.282123Z"
    },
    "collapsed": true
   },
   "outputs": [],
   "source": [
    "def visualize_validation(model):\n",
    "    model.eval()\n",
    "    image = Image.open(os.path.join(VALIDATION_DATA_PATH, \"sky.jpg\"))\n",
    "    image = np.array(image).astype(\"float32\") / 255.\n",
    "    model_input = torch.from_numpy(image).permute(2, 0, 1).unsqueeze(0)\n",
    "\n",
    "    with torch.no_grad():\n",
    "        result = model(model_input)\n",
    "\n",
    "    result_image = result[0].clamp(0, 1).permute(1, 2, 0).numpy()\n",
    "    result_image = (result_image * 255).astype(\"uint8\")\n",
    "    \n",
    "    stacked_images = np.zeros((image.shape[0], image.shape[1] * 2, image.shape[2]), dtype=\"uint8\")\n",
    "    stacked_images[:, :image.shape[1]] = (image * 255).astype(\"uint8\")\n",
    "    stacked_images[:, image.shape[1]:] = result_image\n",
    "    \n",
    "    \n",
    "    clear_output(wait=True)\n",
    "    figure(figsize=(18, 18))\n",
    "    imshow(stacked_images)\n",
    "    show()\n"
   ]
  },
  {
   "cell_type": "markdown",
   "metadata": {},
   "source": [
    "### Set the model, dataset, loss function and optimizer"
   ]
  },
  {
   "cell_type": "code",
   "execution_count": null,
   "metadata": {
    "ExecuteTime": {
     "start_time": "2019-10-26T02:08:30.356Z"
    }
   },
   "outputs": [],
   "source": [
    "model = DnCNN()\n",
    "dataset = DenoisingDataset(TRAIN_DATA_PATH)\n",
    "criterion = nn.MSELoss(reduction=\"sum\")\n",
    "optimizer = Adam(model.parameters(), lr=0.001)\n",
    "print(model)"
   ]
  },
  {
   "cell_type": "markdown",
   "metadata": {},
   "source": [
    "### Train the model"
   ]
  },
  {
   "cell_type": "code",
   "execution_count": null,
   "metadata": {
    "ExecuteTime": {
     "start_time": "2019-10-26T02:08:30.409Z"
    }
   },
   "outputs": [],
   "source": [
    "for epoch_id in range(NUM_EPOCHS):\n",
    "    # use current model to predict a validation image\n",
    "    visualize_validation(model)\n",
    "\n",
    "    model.train()\n",
    "    \n",
    "    data_loader = DataLoader(dataset, batch_size=BATCH_SIZE, shuffle=True, drop_last=True, num_workers=0)\n",
    "\n",
    "    for iter_id, (input_images, target_images) in enumerate(data_loader):\n",
    "        predicted_images = model(input_images)\n",
    "        loss = criterion(predicted_images, target_images)\n",
    "\n",
    "        optimizer.zero_grad()\n",
    "        loss.backward()\n",
    "        optimizer.step()\n",
    "\n",
    "        print(\"\\rEpoch {} Iteration {} Loss {}\".format(epoch_id, iter_id, loss.item() / BATCH_SIZE), end=\"\")"
   ]
  },
  {
   "cell_type": "code",
   "execution_count": null,
   "metadata": {
    "collapsed": true
   },
   "outputs": [],
   "source": []
  }
 ],
 "metadata": {
  "kernelspec": {
   "display_name": "Python 3",
   "language": "python",
   "name": "python3"
  },
  "language_info": {
   "codemirror_mode": {
    "name": "ipython",
    "version": 3
   },
   "file_extension": ".py",
   "mimetype": "text/x-python",
   "name": "python",
   "nbconvert_exporter": "python",
   "pygments_lexer": "ipython3",
   "version": "3.6.1"
  },
  "latex_envs": {
   "LaTeX_envs_menu_present": true,
   "autoclose": false,
   "autocomplete": true,
   "bibliofile": "biblio.bib",
   "cite_by": "apalike",
   "current_citInitial": 1,
   "eqLabelWithNumbers": true,
   "eqNumInitial": 1,
   "hotkeys": {
    "equation": "Ctrl-E",
    "itemize": "Ctrl-I"
   },
   "labels_anchors": false,
   "latex_user_defs": false,
   "report_style_numbering": false,
   "user_envs_cfg": false
  },
  "nbTranslate": {
   "displayLangs": [
    "*"
   ],
   "hotkey": "alt-t",
   "langInMainMenu": true,
   "sourceLang": "en",
   "targetLang": "fr",
   "useGoogleTranslate": true
  },
  "toc": {
   "nav_menu": {},
   "number_sections": true,
   "sideBar": true,
   "skip_h1_title": false,
   "title_cell": "Table of Contents",
   "title_sidebar": "Contents",
   "toc_cell": false,
   "toc_position": {},
   "toc_section_display": true,
   "toc_window_display": false
  },
  "varInspector": {
   "cols": {
    "lenName": 16,
    "lenType": 16,
    "lenVar": 40
   },
   "kernels_config": {
    "python": {
     "delete_cmd_postfix": "",
     "delete_cmd_prefix": "del ",
     "library": "var_list.py",
     "varRefreshCmd": "print(var_dic_list())"
    },
    "r": {
     "delete_cmd_postfix": ") ",
     "delete_cmd_prefix": "rm(",
     "library": "var_list.r",
     "varRefreshCmd": "cat(var_dic_list()) "
    }
   },
   "types_to_exclude": [
    "module",
    "function",
    "builtin_function_or_method",
    "instance",
    "_Feature"
   ],
   "window_display": true
  }
 },
 "nbformat": 4,
 "nbformat_minor": 2
}
